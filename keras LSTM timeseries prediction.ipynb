{
 "cells": [
  {
   "cell_type": "code",
   "execution_count": 2,
   "metadata": {},
   "outputs": [
    {
     "name": "stderr",
     "output_type": "stream",
     "text": [
      "Using TensorFlow backend.\n"
     ]
    }
   ],
   "source": [
    "import numpy\n",
    "import matplotlib.pyplot as plt\n",
    "import pandas\n",
    "import math\n",
    "from keras.models import Sequential\n",
    "from keras.layers import Dense\n",
    "from keras.layers import LSTM\n",
    "from sklearn.preprocessing import MinMaxScaler\n",
    "from sklearn.metrics import mean_squared_error"
   ]
  },
  {
   "cell_type": "code",
   "execution_count": 3,
   "metadata": {
    "collapsed": true
   },
   "outputs": [],
   "source": [
    "# fix random seed for reproducibility\n",
    "numpy.random.seed(666)"
   ]
  },
  {
   "cell_type": "code",
   "execution_count": 8,
   "metadata": {
    "collapsed": true
   },
   "outputs": [],
   "source": [
    "# load the dataset\n",
    "dataframe = pandas.read_csv('20171106_CQ148Z14_before.csv')\n",
    "dataset = dataframe.values\n",
    "dataset = dataset.astype('float32')"
   ]
  },
  {
   "cell_type": "code",
   "execution_count": 9,
   "metadata": {},
   "outputs": [
    {
     "data": {
      "text/plain": [
       "array([[  8.],\n",
       "       [ 10.],\n",
       "       [  8.],\n",
       "       ..., \n",
       "       [  4.],\n",
       "       [  0.],\n",
       "       [ 11.]], dtype=float32)"
      ]
     },
     "execution_count": 9,
     "metadata": {},
     "output_type": "execute_result"
    }
   ],
   "source": [
    "dataset"
   ]
  },
  {
   "cell_type": "code",
   "execution_count": 10,
   "metadata": {},
   "outputs": [],
   "source": [
    "# normalize the dataset\n",
    "scaler = MinMaxScaler(feature_range=(0, 1))\n",
    "dataset = scaler.fit_transform(dataset)"
   ]
  },
  {
   "cell_type": "code",
   "execution_count": 11,
   "metadata": {},
   "outputs": [
    {
     "name": "stdout",
     "output_type": "stream",
     "text": [
      "1309 328\n"
     ]
    }
   ],
   "source": [
    "# split into train and test sets\n",
    "train_size = int(len(dataset) * 0.8)\n",
    "test_size = len(dataset) - train_size\n",
    "train, test = dataset[0:train_size,:], dataset[train_size:len(dataset),:]\n",
    "print(len(train), len(test))"
   ]
  },
  {
   "cell_type": "code",
   "execution_count": 12,
   "metadata": {
    "collapsed": true
   },
   "outputs": [],
   "source": [
    "# convert an array of values into a dataset matrix\n",
    "def create_dataset(dataset, look_back=1):\n",
    "\tdataX, dataY = [], []\n",
    "\tfor i in range(len(dataset)-look_back-1):\n",
    "\t\ta = dataset[i:(i+look_back), 0]\n",
    "\t\tdataX.append(a)\n",
    "\t\tdataY.append(dataset[i + look_back, 0])\n",
    "\treturn numpy.array(dataX), numpy.array(dataY)"
   ]
  },
  {
   "cell_type": "code",
   "execution_count": 23,
   "metadata": {},
   "outputs": [],
   "source": [
    "# reshape into X=t and Y=t+1\n",
    "look_back = 12\n",
    "trainX, trainY = create_dataset(train, look_back)\n",
    "testX, testY = create_dataset(test, look_back)"
   ]
  },
  {
   "cell_type": "code",
   "execution_count": 24,
   "metadata": {},
   "outputs": [
    {
     "data": {
      "text/plain": [
       "array([[ 0.05714286,  0.07142857,  0.05714286, ...,  0.03571429,\n",
       "         0.02857143,  0.03571429],\n",
       "       [ 0.07142857,  0.05714286,  0.05      , ...,  0.02857143,\n",
       "         0.03571429,  0.05      ],\n",
       "       [ 0.05714286,  0.05      ,  0.02142857, ...,  0.03571429,\n",
       "         0.05      ,  0.06428572],\n",
       "       ..., \n",
       "       [ 0.10714286,  0.02142857,  0.05714286, ...,  0.08571429,\n",
       "         0.07857143,  0.09285714],\n",
       "       [ 0.02142857,  0.05714286,  0.05      , ...,  0.07857143,\n",
       "         0.09285714,  0.07142857],\n",
       "       [ 0.05714286,  0.05      ,  0.02857143, ...,  0.09285714,\n",
       "         0.07142857,  0.09285714]], dtype=float32)"
      ]
     },
     "execution_count": 24,
     "metadata": {},
     "output_type": "execute_result"
    }
   ],
   "source": [
    "trainX"
   ]
  },
  {
   "cell_type": "code",
   "execution_count": 25,
   "metadata": {},
   "outputs": [
    {
     "data": {
      "text/plain": [
       "array([ 0.05      ,  0.06428572,  0.00714286, ...,  0.07142857,\n",
       "        0.09285714,  0.02857143], dtype=float32)"
      ]
     },
     "execution_count": 25,
     "metadata": {},
     "output_type": "execute_result"
    }
   ],
   "source": [
    "trainY"
   ]
  },
  {
   "cell_type": "code",
   "execution_count": 26,
   "metadata": {
    "collapsed": true
   },
   "outputs": [],
   "source": [
    "# reshape input to be [samples, time steps, features]\n",
    "trainX = numpy.reshape(trainX, (trainX.shape[0], 1, trainX.shape[1]))\n",
    "testX = numpy.reshape(testX, (testX.shape[0], 1, testX.shape[1]))"
   ]
  },
  {
   "cell_type": "code",
   "execution_count": 27,
   "metadata": {},
   "outputs": [
    {
     "name": "stdout",
     "output_type": "stream",
     "text": [
      "Epoch 1/50\n",
      " - 1s - loss: 0.0342\n",
      "Epoch 2/50\n",
      " - 0s - loss: 0.0213\n",
      "Epoch 3/50\n",
      " - 0s - loss: 0.0160\n",
      "Epoch 4/50\n",
      " - 0s - loss: 0.0145\n",
      "Epoch 5/50\n",
      " - 0s - loss: 0.0140\n",
      "Epoch 6/50\n",
      " - 0s - loss: 0.0136\n",
      "Epoch 7/50\n",
      " - 0s - loss: 0.0132\n",
      "Epoch 8/50\n",
      " - 0s - loss: 0.0129\n",
      "Epoch 9/50\n",
      " - 0s - loss: 0.0125\n",
      "Epoch 10/50\n",
      " - 0s - loss: 0.0122\n",
      "Epoch 11/50\n",
      " - 0s - loss: 0.0120\n",
      "Epoch 12/50\n",
      " - 0s - loss: 0.0117\n",
      "Epoch 13/50\n",
      " - 0s - loss: 0.0115\n",
      "Epoch 14/50\n",
      " - 0s - loss: 0.0114\n",
      "Epoch 15/50\n",
      " - 0s - loss: 0.0112\n",
      "Epoch 16/50\n",
      " - 0s - loss: 0.0111\n",
      "Epoch 17/50\n",
      " - 0s - loss: 0.0110\n",
      "Epoch 18/50\n",
      " - 0s - loss: 0.0109\n",
      "Epoch 19/50\n",
      " - 0s - loss: 0.0109\n",
      "Epoch 20/50\n",
      " - 0s - loss: 0.0107\n",
      "Epoch 21/50\n",
      " - 0s - loss: 0.0107\n",
      "Epoch 22/50\n",
      " - 0s - loss: 0.0106\n",
      "Epoch 23/50\n",
      " - 0s - loss: 0.0105\n",
      "Epoch 24/50\n",
      " - 0s - loss: 0.0104\n",
      "Epoch 25/50\n",
      " - 0s - loss: 0.0104\n",
      "Epoch 26/50\n",
      " - 0s - loss: 0.0103\n",
      "Epoch 27/50\n",
      " - 0s - loss: 0.0103\n",
      "Epoch 28/50\n",
      " - 0s - loss: 0.0102\n",
      "Epoch 29/50\n",
      " - 0s - loss: 0.0102\n",
      "Epoch 30/50\n",
      " - 0s - loss: 0.0101\n",
      "Epoch 31/50\n",
      " - 0s - loss: 0.0101\n",
      "Epoch 32/50\n",
      " - 0s - loss: 0.0101\n",
      "Epoch 33/50\n",
      " - 0s - loss: 0.0100\n",
      "Epoch 34/50\n",
      " - 0s - loss: 0.0100\n",
      "Epoch 35/50\n",
      " - 0s - loss: 0.0100\n",
      "Epoch 36/50\n",
      " - 0s - loss: 0.0100\n",
      "Epoch 37/50\n",
      " - 0s - loss: 0.0099\n",
      "Epoch 38/50\n",
      " - 0s - loss: 0.0099\n",
      "Epoch 39/50\n",
      " - 0s - loss: 0.0099\n",
      "Epoch 40/50\n",
      " - 0s - loss: 0.0098\n",
      "Epoch 41/50\n",
      " - 0s - loss: 0.0098\n",
      "Epoch 42/50\n",
      " - 0s - loss: 0.0098\n",
      "Epoch 43/50\n",
      " - 0s - loss: 0.0098\n",
      "Epoch 44/50\n",
      " - 0s - loss: 0.0098\n",
      "Epoch 45/50\n",
      " - 0s - loss: 0.0098\n",
      "Epoch 46/50\n",
      " - 0s - loss: 0.0098\n",
      "Epoch 47/50\n",
      " - 0s - loss: 0.0098\n",
      "Epoch 48/50\n",
      " - 0s - loss: 0.0098\n",
      "Epoch 49/50\n",
      " - 0s - loss: 0.0097\n",
      "Epoch 50/50\n",
      " - 0s - loss: 0.0097\n"
     ]
    },
    {
     "data": {
      "text/plain": [
       "<keras.callbacks.History at 0x117179b0>"
      ]
     },
     "execution_count": 27,
     "metadata": {},
     "output_type": "execute_result"
    }
   ],
   "source": [
    "# create and fit the LSTM network\n",
    "model = Sequential()\n",
    "model.add(LSTM(4, input_shape=(1, look_back)))\n",
    "model.add(Dense(1))\n",
    "model.compile(loss='mean_squared_error', optimizer='adam')\n",
    "model.fit(trainX, trainY, epochs=50, batch_size=50, verbose=2)"
   ]
  },
  {
   "cell_type": "code",
   "execution_count": 28,
   "metadata": {},
   "outputs": [
    {
     "name": "stdout",
     "output_type": "stream",
     "text": [
      "Train Score: 13.76 RMSE\n",
      "Test Score: 12.12 RMSE\n"
     ]
    }
   ],
   "source": [
    "# make predictions\n",
    "trainPredict = model.predict(trainX)\n",
    "testPredict = model.predict(testX)\n",
    "# invert predictions\n",
    "trainPredict = scaler.inverse_transform(trainPredict)\n",
    "trainY = scaler.inverse_transform([trainY])\n",
    "testPredict = scaler.inverse_transform(testPredict)\n",
    "testY = scaler.inverse_transform([testY])\n",
    "# calculate root mean squared error\n",
    "trainScore = math.sqrt(mean_squared_error(trainY[0], trainPredict[:,0]))\n",
    "print('Train Score: %.2f RMSE' % (trainScore))\n",
    "testScore = math.sqrt(mean_squared_error(testY[0], testPredict[:,0]))\n",
    "print('Test Score: %.2f RMSE' % (testScore))"
   ]
  },
  {
   "cell_type": "code",
   "execution_count": 29,
   "metadata": {},
   "outputs": [
    {
     "data": {
      "image/png": "[encoded data removed]",
      "text/plain": [
       "<matplotlib.figure.Figure at 0x140ce4a8>"
      ]
     },
     "metadata": {},
     "output_type": "display_data"
    }
   ],
   "source": [
    "# shift train predictions for plotting\n",
    "trainPredictPlot = numpy.empty_like(dataset)\n",
    "trainPredictPlot[:, :] = numpy.nan\n",
    "trainPredictPlot[look_back:len(trainPredict)+look_back, :] = trainPredict\n",
    "# shift test predictions for plotting\n",
    "testPredictPlot = numpy.empty_like(dataset)\n",
    "testPredictPlot[:, :] = numpy.nan\n",
    "testPredictPlot[len(trainPredict)+(look_back*2)+1:len(dataset)-1, :] = testPredict\n",
    "# plot baseline and predictions\n",
    "plt.plot(scaler.inverse_transform(dataset))\n",
    "plt.plot(trainPredictPlot)\n",
    "plt.plot(testPredictPlot)\n",
    "plt.show()"
   ]
  },
  {
   "cell_type": "code",
   "execution_count": null,
   "metadata": {
    "collapsed": true
   },
   "outputs": [],
   "source": []
  }
 ],
 "metadata": {
  "kernelspec": {
   "display_name": "Python 3",
   "language": "python",
   "name": "python3"
  },
  "language_info": {
   "codemirror_mode": {
    "name": "ipython",
    "version": 3
   },
   "file_extension": ".py",
   "mimetype": "text/x-python",
   "name": "python",
   "nbconvert_exporter": "python",
   "pygments_lexer": "ipython3",
   "version": "3.6.2"
  }
 },
 "nbformat": 4,
 "nbformat_minor": 2
}
